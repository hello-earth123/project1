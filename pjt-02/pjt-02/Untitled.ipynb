{
 "cells": [
  {
   "cell_type": "code",
   "execution_count": null,
   "id": "6a1068d3-8193-49d8-b032-8b97b447d70a",
   "metadata": {},
   "outputs": [],
   "source": [
    "# 명령어 정리\n",
    "\n",
    "- jupyter 는 두 가지 버전으로 실행\n",
    "    -명령 모드 esc\n",
    "    -코드 실행 모드 : enter\n",
    "\n",
    "- 명령 모드\n",
    "    -'M': 블록을 마크다운으로 변경\n",
    "    -'Y': 블록을 코드 블럭으로 변경\n",
    "    -'a' : 커서 기준 위에 셀 추가\n",
    "    -'b' :커서 기준 아래에 셀 추가\n",
    "    -'dd' : 선택된 셀 제거\n",
    "\n",
    "- 실행\n",
    "    shift + Enter : 해당 셀 실행 후 커서를 다음 셀로 이동\n",
    "    ctrl + Enter : 해당 셀 실행 후 커서를 그대로 둔다."
   ]
  }
 ],
 "metadata": {
  "kernelspec": {
   "display_name": "Python 3 (ipykernel)",
   "language": "python",
   "name": "python3"
  },
  "language_info": {
   "codemirror_mode": {
    "name": "ipython",
    "version": 3
   },
   "file_extension": ".py",
   "mimetype": "text/x-python",
   "name": "python",
   "nbconvert_exporter": "python",
   "pygments_lexer": "ipython3",
   "version": "3.11.9"
  }
 },
 "nbformat": 4,
 "nbformat_minor": 5
}
